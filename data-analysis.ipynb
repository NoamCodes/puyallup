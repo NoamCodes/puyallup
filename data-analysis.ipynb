{
 "cells": [
  {
   "cell_type": "markdown",
   "id": "dafa697d",
   "metadata": {},
   "source": [
    "# 2021 Western North America heat wave\n",
    "#### Start date\tof the event: June 25, 2021, End date of the event:\tJuly 7, 2021\n",
    "\n",
    "Relevant info on the web:\n",
    "- [Roth et al. paper that basically did the same analysis that we want to do](https://agupubs.onlinelibrary.wiley.com/doi/full/10.1002/2015JF003782)\n",
    "- [Link to USGS stream gauge data](https://nwis.waterdata.usgs.gov/nwis/uv?cb_00060=on&cb_00065=on&cb_63680=on&format=gif_default&site_no=12101500&period=&begin_date=2021-06-1&end_date=2021-07-10)\n",
    "- [Link to USGS stream gauge info](https://waterdata.usgs.gov/monitoring-location/12092000/#parameterCode=00065&period=P365D)\n",
    "- [Wikipedia page about the heat dome event](https://en.wikipedia.org/wiki/2021_Western_North_America_heat_wave)"
   ]
  },
  {
   "cell_type": "markdown",
   "id": "8d98cc55",
   "metadata": {},
   "source": [
    "## Step 1: Download some data using ObsPy"
   ]
  },
  {
   "cell_type": "code",
   "execution_count": null,
   "id": "fec0e802",
   "metadata": {},
   "outputs": [],
   "source": [
    "import obspy\n",
    "from obspy import UTCDateTime\n",
    "from obspy.clients.fdsn import Client\n",
    "import matplotlib.pyplot as plt\n",
    "from time import perf_counter\n",
    "from scipy.signal import spectrogram\n",
    "import numpy as np\n",
    "plt.style.use('bmh')\n",
    "# seaborn-colorblind\n",
    "t0 = perf_counter()\n",
    "\n",
    "client = Client(\"IRIS\")\n",
    "\n",
    "t1 = UTCDateTime(\"2021-06-15T00:00:00\")\n",
    "t2 = UTCDateTime(\"2021-07-15T00:00:00\")\n",
    "# t2 = UTCDateTime(\"2021-07-08T00:00:00\")\n",
    "\n",
    "st = client.get_waveforms(\"CC\", \"PR02\", \"--\", \"BHZ\", t1, t2, attach_response=True)\n",
    "\n",
    "pre_filt = (0.1, 0.2, 25, 49)\n",
    "st.remove_response(output='VEL', pre_filt=pre_filt)\n",
    "st.plot()\n",
    "print(perf_counter()-t0)"
   ]
  },
  {
   "cell_type": "code",
   "execution_count": null,
   "id": "1287c688",
   "metadata": {},
   "outputs": [],
   "source": [
    "data = np.array([])\n",
    "for tr in st:\n",
    "    data=np.concatenate((data,tr.data))\n",
    "data = np.array(data)"
   ]
  },
  {
   "cell_type": "markdown",
   "id": "0a519657",
   "metadata": {},
   "source": [
    "## Step 2: Make a spectrogram and plot it"
   ]
  },
  {
   "cell_type": "code",
   "execution_count": null,
   "id": "449d05b5",
   "metadata": {},
   "outputs": [],
   "source": [
    "f, t, Sxx = spectrogram(data, fs=50.0)"
   ]
  },
  {
   "cell_type": "code",
   "execution_count": null,
   "id": "f6f4f15e",
   "metadata": {},
   "outputs": [],
   "source": [
    "c=plt.pcolormesh(t/86400, f, np.log10(np.abs(Sxx)), shading='flat',vmin=-17,vmax=-13)\n",
    "plt.colorbar(c)\n",
    "plt.tight_layout()\n",
    "plt.show()"
   ]
  },
  {
   "cell_type": "markdown",
   "id": "9ba0719f",
   "metadata": {},
   "source": [
    "## Step 3: Extract a particular frequency band, low-pass filter it, then make a plot\n",
    "The thinking here is that this frequency band is related to water flow and/or sediment flux"
   ]
  },
  {
   "cell_type": "code",
   "execution_count": null,
   "id": "433d0496",
   "metadata": {},
   "outputs": [],
   "source": [
    "from scipy.ndimage import gaussian_filter\n",
    "from scipy.interpolate import interp1d\n",
    "\n",
    "power_timeseries = np.abs( np.sum(Sxx[60:72,:],axis=0))\n",
    "\n",
    "dt = 60\n",
    "t_deci = np.arange(dt,max(t),dt)\n",
    "p_filt = gaussian_filter(power_timeseries,1000)\n",
    "p_fun = interp1d(t,p_filt)\n",
    "p_deci = p_fun(t_deci)\n",
    "\n",
    "fig,ax=plt.subplots(figsize=(15,10))\n",
    "plt.plot(t/86400, power_timeseries  )\n",
    "plt.plot(t_deci/86400, p_deci )\n",
    "# plt.ylim([0, 1e-12])\n",
    "plt.title('Power in band from %f to %f Hz'%(f[60],f[72]))\n",
    "plt.xlabel('Days since Jun 1, 2021 GMT')\n",
    "# plt.ylim([-16,-12])\n",
    "# plt.yscale('log')\n",
    "plt.ylim([0, 1e-13])\n",
    "plt.show()"
   ]
  },
  {
   "cell_type": "markdown",
   "id": "7bf8b7a9",
   "metadata": {},
   "source": [
    "## Step 4: Load the stream gauge data and plot it"
   ]
  },
  {
   "cell_type": "code",
   "execution_count": null,
   "id": "e3421c24",
   "metadata": {},
   "outputs": [],
   "source": [
    "import pandas as pd\n",
    "  \n",
    "# read text file into pandas DataFrame\n",
    "df = pd.read_csv(\"usgs-data.txt\", sep=\"\\t\", header=28)\n",
    "\n",
    "df[\"datetime\"]"
   ]
  },
  {
   "cell_type": "code",
   "execution_count": null,
   "id": "625c8b7e",
   "metadata": {},
   "outputs": [],
   "source": [
    "fig,ax=plt.subplots()\n",
    "plt.plot(df['Flux'].to_list())\n",
    "plt.show()"
   ]
  },
  {
   "cell_type": "markdown",
   "id": "3ba9650b",
   "metadata": {},
   "source": [
    "## Step 5: Compare seismic and stream gauge data.\n",
    "Specifically: interpolate the stream gauge data so that it is on the same time grid as the spectral energy curve, then compare the two using a cross plot"
   ]
  },
  {
   "cell_type": "code",
   "execution_count": null,
   "id": "8c23f108",
   "metadata": {},
   "outputs": [],
   "source": [
    "import pandas as pd\n",
    "import matplotlib.pyplot as plt\n",
    "\n",
    "# Load USGS data from \"usgs-data.txt\" file\n",
    "usgs_df = pd.read_csv(\"usgs-data.txt\", sep=\"\\t\")\n",
    "\n",
    "# Convert the 'datetime' column to a datetime object\n",
    "usgs_df['datetime'] = pd.to_datetime(usgs_df['datetime'])\n",
    "\n",
    "# Interpolate the streamflow data\n",
    "usgs_df = usgs_df.set_index('datetime').resample('15T').mean().interpolate(method='linear')\n",
    "\n",
    "# Sample spectral energy data (replace this with your data)\n",
    "spectral_energy_data = {\n",
    "    'time': ['2021-02-24 15:15', '2021-02-24 15:30', '2021-02-24 15:45', '2021-02-24 16:00'],\n",
    "    'energy': [0.5, 0.6, 0.7, 0.8]\n",
    "}\n",
    "\n",
    "spectral_energy_df = pd.DataFrame(spectral_energy_data)\n",
    "\n",
    "# Merge the two DataFrames based on the time column\n",
    "merged_data = pd.merge(usgs_df, spectral_energy_df, left_index=True, right_on='time', how='outer')\n",
    "\n",
    "# Create a cross plot\n",
    "plt.scatter(merged_data['Flux'], merged_data['energy'], marker='o', s=10)\n",
    "plt.xlabel('Streamflow')\n",
    "plt.ylabel('Spectral Energy')\n",
    "plt.title('Cross Plot of Stream Gauge Data vs. Spectral Energy Curve')\n",
    "plt.grid()\n",
    "plt.show()"
   ]
  },
  {
   "cell_type": "markdown",
   "id": "db903f3f",
   "metadata": {},
   "source": [
    "## Step 6: Find some rainfall data and compare it in a similar way."
   ]
  },
  {
   "cell_type": "code",
   "execution_count": null,
   "id": "0b3e3f9d",
   "metadata": {},
   "outputs": [],
   "source": []
  }
 ],
 "metadata": {
  "kernelspec": {
   "display_name": "Python 3 (ipykernel)",
   "language": "python",
   "name": "python3"
  },
  "language_info": {
   "codemirror_mode": {
    "name": "ipython",
    "version": 3
   },
   "file_extension": ".py",
   "mimetype": "text/x-python",
   "name": "python",
   "nbconvert_exporter": "python",
   "pygments_lexer": "ipython3",
   "version": "3.11.5"
  },
  "vscode": {
   "interpreter": {
    "hash": "31f2aee4e71d21fbe5cf8b01ff0e069b9275f58929596ceb00d14d90e3e16cd6"
   }
  }
 },
 "nbformat": 4,
 "nbformat_minor": 5
}
